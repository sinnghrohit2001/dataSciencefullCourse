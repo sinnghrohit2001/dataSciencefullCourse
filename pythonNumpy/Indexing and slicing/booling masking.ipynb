{
 "cells": [
  {
   "cell_type": "code",
   "execution_count": 1,
   "id": "f8dfc078-c40d-4023-aaaa-ffe970386cc7",
   "metadata": {},
   "outputs": [],
   "source": [
    "import numpy as np"
   ]
  },
  {
   "cell_type": "code",
   "execution_count": 2,
   "id": "61fd7fe0-32e3-4e29-ab0c-3355c59981d1",
   "metadata": {},
   "outputs": [],
   "source": [
    "hit=np.array([1,12,13,14,15,1,6,11])"
   ]
  },
  {
   "cell_type": "code",
   "execution_count": 3,
   "id": "83b20b58-9bff-4328-8861-ea5720e07d34",
   "metadata": {},
   "outputs": [
    {
     "data": {
      "text/plain": [
       "array([ 1, 12, 13, 14, 15,  1,  6, 11])"
      ]
     },
     "execution_count": 3,
     "metadata": {},
     "output_type": "execute_result"
    }
   ],
   "source": [
    "hit"
   ]
  },
  {
   "cell_type": "code",
   "execution_count": 6,
   "id": "3bd4579e-ce94-455b-a378-d5abf9d681db",
   "metadata": {},
   "outputs": [],
   "source": [
    "arr = hit > 10"
   ]
  },
  {
   "cell_type": "code",
   "execution_count": 7,
   "id": "e2e1d17c-a13a-4b3e-a81e-4def1d62c8d1",
   "metadata": {},
   "outputs": [
    {
     "data": {
      "text/plain": [
       "array([False,  True,  True,  True,  True, False, False,  True])"
      ]
     },
     "execution_count": 7,
     "metadata": {},
     "output_type": "execute_result"
    }
   ],
   "source": [
    "arr"
   ]
  },
  {
   "cell_type": "code",
   "execution_count": null,
   "id": "40b90e92-383d-4ada-9d1d-6bf1f42f4bf4",
   "metadata": {},
   "outputs": [],
   "source": []
  }
 ],
 "metadata": {
  "kernelspec": {
   "display_name": "Python 3 (ipykernel)",
   "language": "python",
   "name": "python3"
  },
  "language_info": {
   "codemirror_mode": {
    "name": "ipython",
    "version": 3
   },
   "file_extension": ".py",
   "mimetype": "text/x-python",
   "name": "python",
   "nbconvert_exporter": "python",
   "pygments_lexer": "ipython3",
   "version": "3.12.4"
  }
 },
 "nbformat": 4,
 "nbformat_minor": 5
}
