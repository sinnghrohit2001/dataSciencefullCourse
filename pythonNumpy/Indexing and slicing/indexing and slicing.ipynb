{
 "cells": [
  {
   "cell_type": "code",
   "execution_count": 1,
   "id": "d83eebc4-e5b8-41a6-90d1-3cf1daa70b92",
   "metadata": {},
   "outputs": [],
   "source": [
    "import numpy as np"
   ]
  },
  {
   "cell_type": "code",
   "execution_count": 4,
   "id": "5fc7c0c4-a95d-4003-9818-3c89c2be574d",
   "metadata": {},
   "outputs": [],
   "source": [
    "arr = np.array([[1,2,3],[4,5,6],[7,8,9],[11,12,13]])"
   ]
  },
  {
   "cell_type": "code",
   "execution_count": 5,
   "id": "5da79b57-f348-4756-81ef-1b99bc762e64",
   "metadata": {},
   "outputs": [
    {
     "data": {
      "text/plain": [
       "array([[ 1,  2,  3],\n",
       "       [ 4,  5,  6],\n",
       "       [ 7,  8,  9],\n",
       "       [11, 12, 13]])"
      ]
     },
     "execution_count": 5,
     "metadata": {},
     "output_type": "execute_result"
    }
   ],
   "source": [
    "arr"
   ]
  },
  {
   "cell_type": "code",
   "execution_count": 6,
   "id": "0df7843c-6160-4167-b421-6d31680a115c",
   "metadata": {},
   "outputs": [],
   "source": [
    "flat=arr.flatten()"
   ]
  },
  {
   "cell_type": "code",
   "execution_count": 7,
   "id": "332f77d1-a655-4b82-a8a8-bc135c796e29",
   "metadata": {},
   "outputs": [
    {
     "data": {
      "text/plain": [
       "array([ 1,  2,  3,  4,  5,  6,  7,  8,  9, 11, 12, 13])"
      ]
     },
     "execution_count": 7,
     "metadata": {},
     "output_type": "execute_result"
    }
   ],
   "source": [
    "flat"
   ]
  },
  {
   "cell_type": "code",
   "execution_count": 8,
   "id": "35ac61e1-bd3b-4e60-ac62-35b2f8313a3e",
   "metadata": {},
   "outputs": [
    {
     "data": {
      "text/plain": [
       "1"
      ]
     },
     "execution_count": 8,
     "metadata": {},
     "output_type": "execute_result"
    }
   ],
   "source": [
    "flat[0]"
   ]
  },
  {
   "cell_type": "code",
   "execution_count": 9,
   "id": "4445e214-ab43-4084-ac00-e1e9a5f85c09",
   "metadata": {},
   "outputs": [
    {
     "data": {
      "text/plain": [
       "array([4, 5, 6])"
      ]
     },
     "execution_count": 9,
     "metadata": {},
     "output_type": "execute_result"
    }
   ],
   "source": [
    "flat[3:6]"
   ]
  },
  {
   "cell_type": "code",
   "execution_count": 10,
   "id": "a0a2b5f2-8018-42ab-b86f-ef5950f4ed21",
   "metadata": {},
   "outputs": [
    {
     "data": {
      "text/plain": [
       "array([1, 2, 3, 4, 5])"
      ]
     },
     "execution_count": 10,
     "metadata": {},
     "output_type": "execute_result"
    }
   ],
   "source": [
    "flat[:5]"
   ]
  },
  {
   "cell_type": "code",
   "execution_count": 11,
   "id": "2a1fe74f-ba7c-42d7-80be-660be3ed836c",
   "metadata": {},
   "outputs": [
    {
     "data": {
      "text/plain": [
       "array([ 4,  5,  6,  7,  8,  9, 11, 12, 13])"
      ]
     },
     "execution_count": 11,
     "metadata": {},
     "output_type": "execute_result"
    }
   ],
   "source": [
    "flat[3:]"
   ]
  },
  {
   "cell_type": "code",
   "execution_count": 12,
   "id": "799feead-f7bb-41ac-9c04-8c79a53208c0",
   "metadata": {},
   "outputs": [
    {
     "data": {
      "text/plain": [
       "array([ 1,  2,  3,  4,  5,  6,  7,  8,  9, 11, 12, 13])"
      ]
     },
     "execution_count": 12,
     "metadata": {},
     "output_type": "execute_result"
    }
   ],
   "source": [
    "flat"
   ]
  },
  {
   "cell_type": "code",
   "execution_count": 13,
   "id": "83e33539-61b9-48fb-8779-f07ca79c1a0c",
   "metadata": {},
   "outputs": [],
   "source": [
    "b=flat[3:7]    #numpy copy nii bnata hai ye view return krta hai jo chane hm b mein krenge vo flat mein change ho jyega"
   ]
  },
  {
   "cell_type": "code",
   "execution_count": 14,
   "id": "d33e71f7-c05a-4298-b14c-4c205d2413e3",
   "metadata": {},
   "outputs": [
    {
     "data": {
      "text/plain": [
       "array([4, 5, 6, 7])"
      ]
     },
     "execution_count": 14,
     "metadata": {},
     "output_type": "execute_result"
    }
   ],
   "source": [
    "b"
   ]
  },
  {
   "cell_type": "code",
   "execution_count": 15,
   "id": "3aeb3a1f-efb9-4c9e-b6e5-5a14a26c711d",
   "metadata": {},
   "outputs": [],
   "source": [
    "b[0]=4444"
   ]
  },
  {
   "cell_type": "code",
   "execution_count": 16,
   "id": "77e29114-a7a1-452f-98c0-29aabfd3040f",
   "metadata": {},
   "outputs": [
    {
     "data": {
      "text/plain": [
       "array([4444,    5,    6,    7])"
      ]
     },
     "execution_count": 16,
     "metadata": {},
     "output_type": "execute_result"
    }
   ],
   "source": [
    "b"
   ]
  },
  {
   "cell_type": "code",
   "execution_count": 17,
   "id": "944daa6c-9b6c-4877-a7ea-3cf45f444e36",
   "metadata": {},
   "outputs": [
    {
     "data": {
      "text/plain": [
       "array([   1,    2,    3, 4444,    5,    6,    7,    8,    9,   11,   12,\n",
       "         13])"
      ]
     },
     "execution_count": 17,
     "metadata": {},
     "output_type": "execute_result"
    }
   ],
   "source": [
    "flat"
   ]
  },
  {
   "cell_type": "code",
   "execution_count": 18,
   "id": "c5154bf9-81b6-44a1-a864-882ec819ee09",
   "metadata": {},
   "outputs": [],
   "source": [
    "b=flat[3:7].copy() # to ye copy bnayega isko ab slicing ni bolenge or flatten change ni hoga"
   ]
  },
  {
   "cell_type": "code",
   "execution_count": 19,
   "id": "c24ce064-cd86-41d4-bc9b-94d16fee12b5",
   "metadata": {},
   "outputs": [
    {
     "data": {
      "text/plain": [
       "array([4444,    5,    6,    7])"
      ]
     },
     "execution_count": 19,
     "metadata": {},
     "output_type": "execute_result"
    }
   ],
   "source": [
    "b"
   ]
  },
  {
   "cell_type": "code",
   "execution_count": 20,
   "id": "bb6c0a91-70ed-4057-b2db-56f3cd3e6d40",
   "metadata": {},
   "outputs": [],
   "source": [
    "b[0]=2"
   ]
  },
  {
   "cell_type": "code",
   "execution_count": 21,
   "id": "ed50ca17-07f6-4c20-a469-9a41e86b388e",
   "metadata": {},
   "outputs": [
    {
     "data": {
      "text/plain": [
       "array([2, 5, 6, 7])"
      ]
     },
     "execution_count": 21,
     "metadata": {},
     "output_type": "execute_result"
    }
   ],
   "source": [
    "b"
   ]
  },
  {
   "cell_type": "code",
   "execution_count": 22,
   "id": "9e2cab86-1a0d-4f54-8cff-8cdd6035fcd5",
   "metadata": {},
   "outputs": [
    {
     "data": {
      "text/plain": [
       "array([   1,    2,    3, 4444,    5,    6,    7,    8,    9,   11,   12,\n",
       "         13])"
      ]
     },
     "execution_count": 22,
     "metadata": {},
     "output_type": "execute_result"
    }
   ],
   "source": [
    "flat                         # flat change nii hua jb ki hmne b[0] ko change kr diya tha "
   ]
  },
  {
   "cell_type": "code",
   "execution_count": 25,
   "id": "9126aea6-c555-4fac-9426-68d5c81d1158",
   "metadata": {},
   "outputs": [],
   "source": [
    "arr = np.array([1,5,88,78,26,89])# fancy indexing"
   ]
  },
  {
   "cell_type": "code",
   "execution_count": 27,
   "id": "4a1827a8-cb50-42f7-a2b6-71f7cc362eb5",
   "metadata": {},
   "outputs": [
    {
     "data": {
      "text/plain": [
       "array([ 1, 26, 89])"
      ]
     },
     "execution_count": 27,
     "metadata": {},
     "output_type": "execute_result"
    }
   ],
   "source": [
    "arr[[0,4,5]]  #in index mein jo bhi element ka array bna k de dega"
   ]
  },
  {
   "cell_type": "raw",
   "id": "8d180deb-cea8-4379-923f-98a68c7bffe4",
   "metadata": {},
   "source": [
    "arr1= np.array([10, 20, 30, 40, 50])"
   ]
  },
  {
   "cell_type": "code",
   "execution_count": 32,
   "id": "3bd08b8a-35fc-417f-8223-4eb27a22ed5b",
   "metadata": {},
   "outputs": [
    {
     "ename": "NameError",
     "evalue": "name 'arr1' is not defined",
     "output_type": "error",
     "traceback": [
      "\u001b[1;31m---------------------------------------------------------------------------\u001b[0m",
      "\u001b[1;31mNameError\u001b[0m                                 Traceback (most recent call last)",
      "Cell \u001b[1;32mIn[32], line 1\u001b[0m\n\u001b[1;32m----> 1\u001b[0m arr1\n",
      "\u001b[1;31mNameError\u001b[0m: name 'arr1' is not defined"
     ]
    }
   ],
   "source": [
    "arr1"
   ]
  },
  {
   "cell_type": "code",
   "execution_count": null,
   "id": "458b3884-25ab-4760-82f9-2a757726b767",
   "metadata": {},
   "outputs": [],
   "source": []
  }
 ],
 "metadata": {
  "kernelspec": {
   "display_name": "Python 3 (ipykernel)",
   "language": "python",
   "name": "python3"
  },
  "language_info": {
   "codemirror_mode": {
    "name": "ipython",
    "version": 3
   },
   "file_extension": ".py",
   "mimetype": "text/x-python",
   "name": "python",
   "nbconvert_exporter": "python",
   "pygments_lexer": "ipython3",
   "version": "3.12.4"
  }
 },
 "nbformat": 4,
 "nbformat_minor": 5
}
