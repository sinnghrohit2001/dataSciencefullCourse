{
 "cells": [
  {
   "cell_type": "code",
   "execution_count": 2,
   "id": "4b2c3b29-d39f-4a8f-b213-46acb9b90cfa",
   "metadata": {},
   "outputs": [],
   "source": [
    "import numpy as np\n",
    "arr = np.array([[1, 2, 3], [4, 5, 6]])\n"
   ]
  },
  {
   "cell_type": "code",
   "execution_count": 3,
   "id": "caee212e-fe2a-4600-98e2-ca715e1fb803",
   "metadata": {},
   "outputs": [
    {
     "data": {
      "text/plain": [
       "array([[1, 2, 3],\n",
       "       [4, 5, 6]])"
      ]
     },
     "execution_count": 3,
     "metadata": {},
     "output_type": "execute_result"
    }
   ],
   "source": [
    "arr"
   ]
  },
  {
   "cell_type": "code",
   "execution_count": 4,
   "id": "60c80c32-fb00-4c94-bac6-b31fc08629ef",
   "metadata": {},
   "outputs": [
    {
     "name": "stdout",
     "output_type": "stream",
     "text": [
      "(2, 3)\n"
     ]
    }
   ],
   "source": [
    "print(arr.shape)  # (2, 3)"
   ]
  },
  {
   "cell_type": "code",
   "execution_count": null,
   "id": "6e916182-3a9c-4d1b-bb25-e37c512147c1",
   "metadata": {},
   "outputs": [],
   "source": [
    "reshaped = arr.reshape((3, 2))  # Change shape\n",
    "print(reshaped)\n",
    "# [[1 2]\n",
    "#  [3 4]\n",
    "#  [5 6]]\n",
    "\n",
    "flattened = arr.flatten()  # Convert 2D → 1D\n",
    "print(flattened)  # [1 2 3 4 5 6]"
   ]
  }
 ],
 "metadata": {
  "kernelspec": {
   "display_name": "Python 3 (ipykernel)",
   "language": "python",
   "name": "python3"
  },
  "language_info": {
   "codemirror_mode": {
    "name": "ipython",
    "version": 3
   },
   "file_extension": ".py",
   "mimetype": "text/x-python",
   "name": "python",
   "nbconvert_exporter": "python",
   "pygments_lexer": "ipython3",
   "version": "3.12.4"
  }
 },
 "nbformat": 4,
 "nbformat_minor": 5
}
