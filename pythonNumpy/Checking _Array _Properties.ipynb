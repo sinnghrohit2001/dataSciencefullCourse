{
 "cells": [
  {
   "cell_type": "code",
   "execution_count": 1,
   "id": "b581e5f5-e93a-4e70-b6ca-1cee3cef5298",
   "metadata": {},
   "outputs": [],
   "source": [
    "import numpy as np"
   ]
  },
  {
   "cell_type": "code",
   "execution_count": 2,
   "id": "96196f04-6ca3-4953-9b24-0b0d0e7480e1",
   "metadata": {},
   "outputs": [
    {
     "name": "stdout",
     "output_type": "stream",
     "text": [
      "Shape: (2, 3)\n",
      "Size: 6\n",
      "Dimensions: 2\n",
      "Data type: int32\n"
     ]
    }
   ],
   "source": [
    "arr = np.array([[10, 20, 30], [40, 50, 60]])\n",
    "\n",
    "print(\"Shape:\", arr.shape)   # (2, 3) → 2 rows, 3 columns\n",
    "print(\"Size:\", arr.size)     # 6 → total elements\n",
    "print(\"Dimensions:\", arr.ndim) # 2 → 2D array\n",
    "print(\"Data type:\", arr.dtype) # int64 (or int32 on Windows)"
   ]
  },
  {
   "cell_type": "code",
   "execution_count": null,
   "id": "3a1a0b41-37d6-49fe-8caa-4c09583a74e4",
   "metadata": {},
   "outputs": [],
   "source": []
  }
 ],
 "metadata": {
  "kernelspec": {
   "display_name": "Python 3 (ipykernel)",
   "language": "python",
   "name": "python3"
  },
  "language_info": {
   "codemirror_mode": {
    "name": "ipython",
    "version": 3
   },
   "file_extension": ".py",
   "mimetype": "text/x-python",
   "name": "python",
   "nbconvert_exporter": "python",
   "pygments_lexer": "ipython3",
   "version": "3.12.4"
  }
 },
 "nbformat": 4,
 "nbformat_minor": 5
}
