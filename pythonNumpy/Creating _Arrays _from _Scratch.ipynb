{
 "cells": [
  {
   "cell_type": "code",
   "execution_count": 4,
   "id": "f1741630-bf0b-47c4-8ebd-2fd854e9875d",
   "metadata": {},
   "outputs": [],
   "source": [
    "import numpy as np"
   ]
  },
  {
   "cell_type": "code",
   "execution_count": 6,
   "id": "3297d9ff-84fa-4c3d-9308-5f9ee0107c9e",
   "metadata": {},
   "outputs": [
    {
     "data": {
      "text/plain": [
       "array([[0., 0., 0.],\n",
       "       [0., 0., 0.],\n",
       "       [0., 0., 0.]])"
      ]
     },
     "execution_count": 6,
     "metadata": {},
     "output_type": "execute_result"
    }
   ],
   "source": [
    "np.zeros((3, 3))    # 3x3 array of zeros\n"
   ]
  },
  {
   "cell_type": "code",
   "execution_count": 7,
   "id": "0d093e35-d39d-4758-b370-c2a8ecec6c8e",
   "metadata": {},
   "outputs": [
    {
     "data": {
      "text/plain": [
       "array([[1., 1., 1., 1.],\n",
       "       [1., 1., 1., 1.]])"
      ]
     },
     "execution_count": 7,
     "metadata": {},
     "output_type": "execute_result"
    }
   ],
   "source": [
    "\n",
    "np.ones((2, 4))     # 2x4 array of ones\n"
   ]
  },
  {
   "cell_type": "code",
   "execution_count": 8,
   "id": "58bcbf32-d452-4342-bd48-79adbce44538",
   "metadata": {},
   "outputs": [
    {
     "data": {
      "text/plain": [
       "array([[7, 7],\n",
       "       [7, 7]])"
      ]
     },
     "execution_count": 8,
     "metadata": {},
     "output_type": "execute_result"
    }
   ],
   "source": [
    "np.full((2, 2), 7)  # 2x2 array filled with 7\n"
   ]
  },
  {
   "cell_type": "code",
   "execution_count": 9,
   "id": "88179b0f-b0f7-4e29-9ce2-2341a74d4351",
   "metadata": {},
   "outputs": [
    {
     "data": {
      "text/plain": [
       "array([[1., 0., 0., 0.],\n",
       "       [0., 1., 0., 0.],\n",
       "       [0., 0., 1., 0.],\n",
       "       [0., 0., 0., 1.]])"
      ]
     },
     "execution_count": 9,
     "metadata": {},
     "output_type": "execute_result"
    }
   ],
   "source": [
    "np.eye(4)           # 4x4 identity matrix\n"
   ]
  },
  {
   "cell_type": "code",
   "execution_count": 10,
   "id": "e7d4d649-9bf5-4a4d-826b-378318f5e0e9",
   "metadata": {},
   "outputs": [
    {
     "data": {
      "text/plain": [
       "array([1, 3, 5, 7, 9])"
      ]
     },
     "execution_count": 10,
     "metadata": {},
     "output_type": "execute_result"
    }
   ],
   "source": [
    "np.arange(1, 10, 2) # [1, 3, 5, 7, 9] (like range)\n"
   ]
  },
  {
   "cell_type": "code",
   "execution_count": 11,
   "id": "8f7ed53b-0746-4fdd-9f58-143f54b3cf7c",
   "metadata": {},
   "outputs": [
    {
     "data": {
      "text/plain": [
       "array([0.  , 0.25, 0.5 , 0.75, 1.  ])"
      ]
     },
     "execution_count": 11,
     "metadata": {},
     "output_type": "execute_result"
    }
   ],
   "source": [
    "np.linspace(0, 1, 5) # [0. 0.25 0.5 0.75 1.] (evenly spaced)"
   ]
  },
  {
   "cell_type": "code",
   "execution_count": null,
   "id": "f7d66dd0-16df-4f03-a48a-6d55f89f18ae",
   "metadata": {},
   "outputs": [],
   "source": []
  }
 ],
 "metadata": {
  "kernelspec": {
   "display_name": "Python 3 (ipykernel)",
   "language": "python",
   "name": "python3"
  },
  "language_info": {
   "codemirror_mode": {
    "name": "ipython",
    "version": 3
   },
   "file_extension": ".py",
   "mimetype": "text/x-python",
   "name": "python",
   "nbconvert_exporter": "python",
   "pygments_lexer": "ipython3",
   "version": "3.12.4"
  }
 },
 "nbformat": 4,
 "nbformat_minor": 5
}
