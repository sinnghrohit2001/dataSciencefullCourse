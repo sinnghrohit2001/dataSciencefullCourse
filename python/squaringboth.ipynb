{
 "cells": [
  {
   "cell_type": "code",
   "execution_count": 11,
   "id": "7efd5f7a-541d-484b-899e-765e37856df6",
   "metadata": {},
   "outputs": [
    {
     "name": "stdout",
     "output_type": "stream",
     "text": [
      "Array is  [1 2 3 4 5]\n",
      "numpy_squares(vectorized) [ 1  4  9 16 25]\n"
     ]
    }
   ],
   "source": [
    "# Python list (loop-based)\n",
    "list1=[]\n",
    "arr1 = np.array([1, 2, 3, 4, 5])\n",
    "print(\"Array is \",arr1)\n",
    "list_squares = [x ** 2 for x in list1]\n",
    "\n",
    "# NumPy (vectorized)\n",
    "numpy_squares = arr1 ** 2\n",
    "print(\"numpy_squares(vectorized)\",numpy_squares)"
   ]
  },
  {
   "cell_type": "code",
   "execution_count": null,
   "id": "3c464768-4884-4ff0-a71e-d2263c062bf4",
   "metadata": {},
   "outputs": [],
   "source": []
  }
 ],
 "metadata": {
  "kernelspec": {
   "display_name": "Python 3 (ipykernel)",
   "language": "python",
   "name": "python3"
  },
  "language_info": {
   "codemirror_mode": {
    "name": "ipython",
    "version": 3
   },
   "file_extension": ".py",
   "mimetype": "text/x-python",
   "name": "python",
   "nbconvert_exporter": "python",
   "pygments_lexer": "ipython3",
   "version": "3.12.4"
  }
 },
 "nbformat": 4,
 "nbformat_minor": 5
}
